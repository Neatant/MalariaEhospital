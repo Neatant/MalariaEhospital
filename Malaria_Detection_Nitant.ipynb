{
  "nbformat": 4,
  "nbformat_minor": 0,
  "metadata": {
    "colab": {
      "provenance": []
    },
    "kernelspec": {
      "name": "python3",
      "display_name": "Python 3"
    },
    "language_info": {
      "name": "python"
    }
  },
  "cells": [
    {
      "cell_type": "code",
      "execution_count": null,
      "metadata": {
        "id": "4in__9Ma98oS"
      },
      "outputs": [],
      "source": [
        "#importing the libraries\n",
        "\n",
        "from tensorflow.keras.layers import Input, Lambda, Dense, Flatten, Conv2D\n",
        "from tensorflow.keras.models import Model\n",
        "from tensorflow.keras.applications.vgg19 import VGG19\n",
        "from tensorflow.keras.applications.resnet50 import preprocess_input\n",
        "from tensorflow.keras.preprocessing import image\n",
        "from tensorflow.keras.preprocessing.image import ImageDataGenerator, load_img\n",
        "from tensorflow.keras.models import Sequential\n",
        "import numpy as np\n",
        "from glob import glob\n",
        "import matplotlib.pyplot as plt\n"
      ]
    },
    {
      "cell_type": "code",
      "source": [
        "import tensorflow as tf\n",
        "print(tf.__version__)\n"
      ],
      "metadata": {
        "colab": {
          "base_uri": "https://localhost:8080/"
        },
        "id": "Dy9NO2DY_V8l",
        "outputId": "3026c4b7-36f2-4953-dad9-db1f7f0c7a0e"
      },
      "execution_count": null,
      "outputs": [
        {
          "output_type": "stream",
          "name": "stdout",
          "text": [
            "2.11.0\n"
          ]
        }
      ]
    },
    {
      "cell_type": "code",
      "source": [
        "\"\"\"import zipfile\n",
        "import os\"\"\""
      ],
      "metadata": {
        "id": "Htpd-hQYHVAA",
        "colab": {
          "base_uri": "https://localhost:8080/",
          "height": 36
        },
        "outputId": "0201ee13-0ad8-4cd4-8045-8754cd250039"
      },
      "execution_count": null,
      "outputs": [
        {
          "output_type": "execute_result",
          "data": {
            "text/plain": [
              "'import zipfile\\nimport os'"
            ],
            "application/vnd.google.colaboratory.intrinsic+json": {
              "type": "string"
            }
          },
          "metadata": {},
          "execution_count": 3
        }
      ]
    },
    {
      "cell_type": "code",
      "source": [
        "\"\"\"!wget --no-check-certificate \\\n",
        "    \"https://github.com/krishnaik06/Malaria-Detection/blob/master/Dataset.zip\" \\\n",
        "    -O \"/tmp/Dataset.zip\"\n",
        "\n",
        "\n",
        "zip_ref = zipfile.ZipFile('/tmp/Dataset.zip', 'r') #Opens the zip file in read mode\n",
        "zip_ref.extractall('/tmp') #Extracts the files into the /tmp folder\n",
        "zip_ref.close()\"\"\""
      ],
      "metadata": {
        "colab": {
          "base_uri": "https://localhost:8080/",
          "height": 70
        },
        "id": "YVB0HnBBHUzh",
        "outputId": "1b4d3c8f-9193-4e0f-b290-3d9068d9d3af"
      },
      "execution_count": null,
      "outputs": [
        {
          "output_type": "execute_result",
          "data": {
            "text/plain": [
              "'!wget --no-check-certificate     \"https://github.com/krishnaik06/Malaria-Detection/blob/master/Dataset.zip\"     -O \"/tmp/Dataset.zip\"\\n\\n\\nzip_ref = zipfile.ZipFile(\\'/tmp/Dataset.zip\\', \\'r\\') #Opens the zip file in read mode\\nzip_ref.extractall(\\'/tmp\\') #Extracts the files into the /tmp folder\\nzip_ref.close()'"
            ],
            "application/vnd.google.colaboratory.intrinsic+json": {
              "type": "string"
            }
          },
          "metadata": {},
          "execution_count": 4
        }
      ]
    },
    {
      "cell_type": "code",
      "source": [
        "from google.colab import drive\n",
        "drive.mount('/content/drive')"
      ],
      "metadata": {
        "colab": {
          "base_uri": "https://localhost:8080/"
        },
        "id": "ZY85mIKMHUlv",
        "outputId": "38d47924-25b8-4dbc-a2b3-813a5dc92036"
      },
      "execution_count": null,
      "outputs": [
        {
          "output_type": "stream",
          "name": "stdout",
          "text": [
            "Drive already mounted at /content/drive; to attempt to forcibly remount, call drive.mount(\"/content/drive\", force_remount=True).\n"
          ]
        }
      ]
    },
    {
      "cell_type": "code",
      "source": [
        "#resize all the Images to this\n",
        "IMAGE_SIZE = [224,224]\n",
        "train_path = '/content/drive/MyDrive/Dataset/Train'\n",
        "test_path = '/content/drive/MyDrive/Dataset/Test'"
      ],
      "metadata": {
        "id": "ehmrYIii_m23"
      },
      "execution_count": null,
      "outputs": []
    },
    {
      "cell_type": "code",
      "source": [
        "#Importing VGG19 libraries as shown and adding preprocesiing layer to the front of VGG\n",
        "\n",
        "\n",
        "vgg19= VGG19(input_shape=IMAGE_SIZE + [3], weights='imagenet', include_top= False)"
      ],
      "metadata": {
        "colab": {
          "base_uri": "https://localhost:8080/"
        },
        "id": "01iwIfQGAS6m",
        "outputId": "fdefe0a4-fe7a-4700-83c7-f856293aa0cd"
      },
      "execution_count": null,
      "outputs": [
        {
          "output_type": "stream",
          "name": "stdout",
          "text": [
            "Downloading data from https://storage.googleapis.com/tensorflow/keras-applications/vgg19/vgg19_weights_tf_dim_ordering_tf_kernels_notop.h5\n",
            "80134624/80134624 [==============================] - 3s 0us/step\n"
          ]
        }
      ]
    },
    {
      "cell_type": "code",
      "source": [
        "vgg19.summary()\n"
      ],
      "metadata": {
        "colab": {
          "base_uri": "https://localhost:8080/"
        },
        "id": "M0DasqnNB5Ow",
        "outputId": "0eabcfc8-f039-481a-f0b4-00011e9013e4"
      },
      "execution_count": null,
      "outputs": [
        {
          "output_type": "stream",
          "name": "stdout",
          "text": [
            "Model: \"vgg19\"\n",
            "_________________________________________________________________\n",
            " Layer (type)                Output Shape              Param #   \n",
            "=================================================================\n",
            " input_1 (InputLayer)        [(None, 224, 224, 3)]     0         \n",
            "                                                                 \n",
            " block1_conv1 (Conv2D)       (None, 224, 224, 64)      1792      \n",
            "                                                                 \n",
            " block1_conv2 (Conv2D)       (None, 224, 224, 64)      36928     \n",
            "                                                                 \n",
            " block1_pool (MaxPooling2D)  (None, 112, 112, 64)      0         \n",
            "                                                                 \n",
            " block2_conv1 (Conv2D)       (None, 112, 112, 128)     73856     \n",
            "                                                                 \n",
            " block2_conv2 (Conv2D)       (None, 112, 112, 128)     147584    \n",
            "                                                                 \n",
            " block2_pool (MaxPooling2D)  (None, 56, 56, 128)       0         \n",
            "                                                                 \n",
            " block3_conv1 (Conv2D)       (None, 56, 56, 256)       295168    \n",
            "                                                                 \n",
            " block3_conv2 (Conv2D)       (None, 56, 56, 256)       590080    \n",
            "                                                                 \n",
            " block3_conv3 (Conv2D)       (None, 56, 56, 256)       590080    \n",
            "                                                                 \n",
            " block3_conv4 (Conv2D)       (None, 56, 56, 256)       590080    \n",
            "                                                                 \n",
            " block3_pool (MaxPooling2D)  (None, 28, 28, 256)       0         \n",
            "                                                                 \n",
            " block4_conv1 (Conv2D)       (None, 28, 28, 512)       1180160   \n",
            "                                                                 \n",
            " block4_conv2 (Conv2D)       (None, 28, 28, 512)       2359808   \n",
            "                                                                 \n",
            " block4_conv3 (Conv2D)       (None, 28, 28, 512)       2359808   \n",
            "                                                                 \n",
            " block4_conv4 (Conv2D)       (None, 28, 28, 512)       2359808   \n",
            "                                                                 \n",
            " block4_pool (MaxPooling2D)  (None, 14, 14, 512)       0         \n",
            "                                                                 \n",
            " block5_conv1 (Conv2D)       (None, 14, 14, 512)       2359808   \n",
            "                                                                 \n",
            " block5_conv2 (Conv2D)       (None, 14, 14, 512)       2359808   \n",
            "                                                                 \n",
            " block5_conv3 (Conv2D)       (None, 14, 14, 512)       2359808   \n",
            "                                                                 \n",
            " block5_conv4 (Conv2D)       (None, 14, 14, 512)       2359808   \n",
            "                                                                 \n",
            " block5_pool (MaxPooling2D)  (None, 7, 7, 512)         0         \n",
            "                                                                 \n",
            "=================================================================\n",
            "Total params: 20,024,384\n",
            "Trainable params: 20,024,384\n",
            "Non-trainable params: 0\n",
            "_________________________________________________________________\n"
          ]
        }
      ]
    },
    {
      "cell_type": "code",
      "source": [
        "for layer in vgg19.layers:\n",
        "  layer.trainable = False"
      ],
      "metadata": {
        "id": "78OTWjJtCP7h"
      },
      "execution_count": null,
      "outputs": []
    },
    {
      "cell_type": "code",
      "source": [
        "#useful for getting number of output classes\n",
        "folders = glob('/content/drive/MyDrive/Dataset*')"
      ],
      "metadata": {
        "id": "wgR7kVqwCn7E"
      },
      "execution_count": null,
      "outputs": []
    },
    {
      "cell_type": "code",
      "source": [
        "folders"
      ],
      "metadata": {
        "colab": {
          "base_uri": "https://localhost:8080/"
        },
        "id": "QJNnr1yqCzCl",
        "outputId": "ce94021b-6e4b-4d6e-92d0-3cb5402fa5fc"
      },
      "execution_count": null,
      "outputs": [
        {
          "output_type": "execute_result",
          "data": {
            "text/plain": [
              "['/content/drive/MyDrive/Dataset.zip', '/content/drive/MyDrive/Dataset']"
            ]
          },
          "metadata": {},
          "execution_count": 11
        }
      ]
    },
    {
      "cell_type": "code",
      "source": [
        "x= Flatten()(vgg19.output)\n"
      ],
      "metadata": {
        "id": "drWYcLk0Cy_4"
      },
      "execution_count": null,
      "outputs": []
    },
    {
      "cell_type": "code",
      "source": [
        "prediction = Dense(len(folders),activation='softmax')(x)\n",
        "\n",
        "#Creating a model object\n",
        "model = Model(inputs=vgg19.input, outputs=prediction)\n"
      ],
      "metadata": {
        "id": "p3bapmbyCy9H"
      },
      "execution_count": null,
      "outputs": []
    },
    {
      "cell_type": "code",
      "source": [
        "#view the structure of the model\n",
        "model.summary()\n",
        " "
      ],
      "metadata": {
        "id": "2tfpr1zkCy53",
        "colab": {
          "base_uri": "https://localhost:8080/"
        },
        "outputId": "5b71232b-e8b0-432d-fb23-1649a6533f2b"
      },
      "execution_count": null,
      "outputs": [
        {
          "output_type": "stream",
          "name": "stdout",
          "text": [
            "Model: \"model\"\n",
            "_________________________________________________________________\n",
            " Layer (type)                Output Shape              Param #   \n",
            "=================================================================\n",
            " input_1 (InputLayer)        [(None, 224, 224, 3)]     0         \n",
            "                                                                 \n",
            " block1_conv1 (Conv2D)       (None, 224, 224, 64)      1792      \n",
            "                                                                 \n",
            " block1_conv2 (Conv2D)       (None, 224, 224, 64)      36928     \n",
            "                                                                 \n",
            " block1_pool (MaxPooling2D)  (None, 112, 112, 64)      0         \n",
            "                                                                 \n",
            " block2_conv1 (Conv2D)       (None, 112, 112, 128)     73856     \n",
            "                                                                 \n",
            " block2_conv2 (Conv2D)       (None, 112, 112, 128)     147584    \n",
            "                                                                 \n",
            " block2_pool (MaxPooling2D)  (None, 56, 56, 128)       0         \n",
            "                                                                 \n",
            " block3_conv1 (Conv2D)       (None, 56, 56, 256)       295168    \n",
            "                                                                 \n",
            " block3_conv2 (Conv2D)       (None, 56, 56, 256)       590080    \n",
            "                                                                 \n",
            " block3_conv3 (Conv2D)       (None, 56, 56, 256)       590080    \n",
            "                                                                 \n",
            " block3_conv4 (Conv2D)       (None, 56, 56, 256)       590080    \n",
            "                                                                 \n",
            " block3_pool (MaxPooling2D)  (None, 28, 28, 256)       0         \n",
            "                                                                 \n",
            " block4_conv1 (Conv2D)       (None, 28, 28, 512)       1180160   \n",
            "                                                                 \n",
            " block4_conv2 (Conv2D)       (None, 28, 28, 512)       2359808   \n",
            "                                                                 \n",
            " block4_conv3 (Conv2D)       (None, 28, 28, 512)       2359808   \n",
            "                                                                 \n",
            " block4_conv4 (Conv2D)       (None, 28, 28, 512)       2359808   \n",
            "                                                                 \n",
            " block4_pool (MaxPooling2D)  (None, 14, 14, 512)       0         \n",
            "                                                                 \n",
            " block5_conv1 (Conv2D)       (None, 14, 14, 512)       2359808   \n",
            "                                                                 \n",
            " block5_conv2 (Conv2D)       (None, 14, 14, 512)       2359808   \n",
            "                                                                 \n",
            " block5_conv3 (Conv2D)       (None, 14, 14, 512)       2359808   \n",
            "                                                                 \n",
            " block5_conv4 (Conv2D)       (None, 14, 14, 512)       2359808   \n",
            "                                                                 \n",
            " block5_pool (MaxPooling2D)  (None, 7, 7, 512)         0         \n",
            "                                                                 \n",
            " flatten (Flatten)           (None, 25088)             0         \n",
            "                                                                 \n",
            " dense (Dense)               (None, 2)                 50178     \n",
            "                                                                 \n",
            "=================================================================\n",
            "Total params: 20,074,562\n",
            "Trainable params: 50,178\n",
            "Non-trainable params: 20,024,384\n",
            "_________________________________________________________________\n"
          ]
        }
      ]
    },
    {
      "cell_type": "code",
      "source": [
        "from tensorflow.keras.layers import MaxPooling2D\n"
      ],
      "metadata": {
        "id": "ukCT_NFjCy20"
      },
      "execution_count": null,
      "outputs": []
    },
    {
      "cell_type": "code",
      "source": [
        "from tensorflow.python.ops.math_ops import add\n",
        "\"\"\"model=Sequential()\n",
        "model.add(Conv2D(filters=16,kernel_size=2, padding=\"same\", activation='relu',input_shape=(224,224,3)))\n",
        "model.add(MaxPooling2D(pool_size=2))\n",
        "model.add(Conv2D(filters=32,kernel_size=2,padding=\"same\", activation=\"relu\"))\n",
        "model.add(MaxPooling2d(pool_size=2))\n",
        "model.add(Conv2D(filters=64,kernel_size=2, padding=\"same\", activation=\"relu\"))\n",
        "model.add(Maxpooling2D(pool_size=2))\n",
        "model.add(Flatten())\n",
        "model.add(Dense(500,activation=\"relu\"))\n",
        "model.add(Dense(2,activation=\"softmax\"))\n",
        "model.summary()\"\"\"\n",
        "model=Sequential()\n",
        "model.add(Conv2D(filters=16,kernel_size=2,padding=\"same\",activation=\"relu\",input_shape=(224,224,3)))\n",
        "model.add(MaxPooling2D(pool_size=2))\n",
        "model.add(Conv2D(filters=32,kernel_size=2,padding=\"same\",activation =\"relu\"))\n",
        "model.add(MaxPooling2D(pool_size=2))\n",
        "model.add(Conv2D(filters=64,kernel_size=2,padding=\"same\",activation=\"relu\"))\n",
        "model.add(MaxPooling2D(pool_size=2))\n",
        "model.add(Flatten())\n",
        "model.add(Dense(500,activation=\"relu\"))\n",
        "model.add(Dense(2,activation=\"softmax\"))\n",
        "model.summary()"
      ],
      "metadata": {
        "id": "P_uvahLXCyyI",
        "colab": {
          "base_uri": "https://localhost:8080/"
        },
        "outputId": "eb94e945-6f63-4eb2-ad33-ee7d7ad74079"
      },
      "execution_count": null,
      "outputs": [
        {
          "output_type": "stream",
          "name": "stdout",
          "text": [
            "Model: \"sequential\"\n",
            "_________________________________________________________________\n",
            " Layer (type)                Output Shape              Param #   \n",
            "=================================================================\n",
            " conv2d (Conv2D)             (None, 224, 224, 16)      208       \n",
            "                                                                 \n",
            " max_pooling2d (MaxPooling2D  (None, 112, 112, 16)     0         \n",
            " )                                                               \n",
            "                                                                 \n",
            " conv2d_1 (Conv2D)           (None, 112, 112, 32)      2080      \n",
            "                                                                 \n",
            " max_pooling2d_1 (MaxPooling  (None, 56, 56, 32)       0         \n",
            " 2D)                                                             \n",
            "                                                                 \n",
            " conv2d_2 (Conv2D)           (None, 56, 56, 64)        8256      \n",
            "                                                                 \n",
            " max_pooling2d_2 (MaxPooling  (None, 28, 28, 64)       0         \n",
            " 2D)                                                             \n",
            "                                                                 \n",
            " flatten_1 (Flatten)         (None, 50176)             0         \n",
            "                                                                 \n",
            " dense_1 (Dense)             (None, 500)               25088500  \n",
            "                                                                 \n",
            " dense_2 (Dense)             (None, 2)                 1002      \n",
            "                                                                 \n",
            "=================================================================\n",
            "Total params: 25,100,046\n",
            "Trainable params: 25,100,046\n",
            "Non-trainable params: 0\n",
            "_________________________________________________________________\n"
          ]
        }
      ]
    },
    {
      "cell_type": "code",
      "source": [
        "from keras.api._v2.keras import metrics\n",
        "from keras.api._v2.keras import optimizers\n",
        "#tell model what cost and optimisation method to use\n",
        "model.compile(\n",
        "    loss='categorical_crossentropy',\n",
        "    optimizer='adam',\n",
        "    metrics='accuracy'\n",
        ")"
      ],
      "metadata": {
        "id": "oOUUJAfwFdZP"
      },
      "execution_count": null,
      "outputs": []
    },
    {
      "cell_type": "code",
      "source": [
        "from keras.api._v2 import keras\n",
        "#use the Image Data Genereator to import the images from the dataset\n",
        "from tensorflow.keras.preprocessing.image import ImageDataGenerator\n",
        "\n",
        "train_datagen= ImageDataGenerator(rescale=1./  255,\n",
        "                                  shear_range=0.2,\n",
        "                                  zoom_range=0.2,\n",
        "                                  horizontal_flip= True\n",
        "                                  )\n",
        "test_datagen = ImageDataGenerator(rescale=1./255)\n"
      ],
      "metadata": {
        "id": "gB90to9_FdP4"
      },
      "execution_count": null,
      "outputs": []
    },
    {
      "cell_type": "code",
      "source": [
        "training_set = train_datagen.flow_from_directory('/content/drive/MyDrive/Dataset/Train',\n",
        "                                                 target_size = (224,224),\n",
        "                                                 batch_size=32,\n",
        "                                                 class_mode='categorical'\n",
        "                                                 )"
      ],
      "metadata": {
        "id": "S5whcNGIFdMU",
        "colab": {
          "base_uri": "https://localhost:8080/"
        },
        "outputId": "e388d3b5-1f4b-4779-8214-bb19f1f09044"
      },
      "execution_count": null,
      "outputs": [
        {
          "output_type": "stream",
          "name": "stdout",
          "text": [
            "Found 416 images belonging to 2 classes.\n"
          ]
        }
      ]
    },
    {
      "cell_type": "code",
      "source": [
        "training_set"
      ],
      "metadata": {
        "id": "Uc7GVgr2FdJ1",
        "colab": {
          "base_uri": "https://localhost:8080/"
        },
        "outputId": "b7501fb3-faac-4d3c-c594-7d6325334feb"
      },
      "execution_count": null,
      "outputs": [
        {
          "output_type": "execute_result",
          "data": {
            "text/plain": [
              "<keras.preprocessing.image.DirectoryIterator at 0x7fd78c03adc0>"
            ]
          },
          "metadata": {},
          "execution_count": 20
        }
      ]
    },
    {
      "cell_type": "code",
      "source": [
        "test_set = test_datagen.flow_from_directory('/content/drive/MyDrive/Dataset/Test',\n",
        "                                            target_size=(224,224),\n",
        "                                            batch_size=32,\n",
        "                                            class_mode = 'categorical'\n",
        "                                            )"
      ],
      "metadata": {
        "id": "xQ_Va5qCCyug",
        "colab": {
          "base_uri": "https://localhost:8080/"
        },
        "outputId": "803f55f6-182b-4722-8d8b-f51d429b5430"
      },
      "execution_count": null,
      "outputs": [
        {
          "output_type": "stream",
          "name": "stdout",
          "text": [
            "Found 134 images belonging to 2 classes.\n"
          ]
        }
      ]
    },
    {
      "cell_type": "code",
      "source": [
        "#fit the model\n",
        "#Run the cell. It will take some time to execute"
      ],
      "metadata": {
        "id": "dGxzCXhdCypr"
      },
      "execution_count": null,
      "outputs": []
    },
    {
      "cell_type": "code",
      "source": [
        "r=model.fit(\n",
        "    training_set,\n",
        "    validation_data = test_set,\n",
        "    epochs=10,\n",
        "    steps_per_epoch = len(training_set),\n",
        "    validation_steps = len(test_set)\n",
        ")"
      ],
      "metadata": {
        "id": "p-_2-BGTCyha",
        "colab": {
          "base_uri": "https://localhost:8080/"
        },
        "outputId": "94820597-efd7-4f37-983e-db6f16498934"
      },
      "execution_count": null,
      "outputs": [
        {
          "output_type": "stream",
          "name": "stdout",
          "text": [
            "Epoch 1/10\n",
            "13/13 [==============================] - 207s 16s/step - loss: 1.6493 - accuracy: 0.4712 - val_loss: 0.7196 - val_accuracy: 0.3209\n",
            "Epoch 2/10\n",
            "13/13 [==============================] - 30s 2s/step - loss: 0.6892 - accuracy: 0.5505 - val_loss: 0.6781 - val_accuracy: 0.6791\n",
            "Epoch 3/10\n",
            "13/13 [==============================] - 30s 2s/step - loss: 0.6903 - accuracy: 0.5288 - val_loss: 0.6775 - val_accuracy: 0.6791\n",
            "Epoch 4/10\n",
            "13/13 [==============================] - 35s 3s/step - loss: 0.6844 - accuracy: 0.5288 - val_loss: 0.6787 - val_accuracy: 0.6791\n",
            "Epoch 5/10\n",
            "13/13 [==============================] - 30s 2s/step - loss: 0.6690 - accuracy: 0.5409 - val_loss: 0.7021 - val_accuracy: 0.4478\n",
            "Epoch 6/10\n",
            "13/13 [==============================] - 32s 2s/step - loss: 0.6544 - accuracy: 0.6034 - val_loss: 0.7117 - val_accuracy: 0.4328\n",
            "Epoch 7/10\n",
            "13/13 [==============================] - 30s 2s/step - loss: 0.6072 - accuracy: 0.6514 - val_loss: 0.7463 - val_accuracy: 0.4254\n",
            "Epoch 8/10\n",
            "13/13 [==============================] - 30s 2s/step - loss: 0.5780 - accuracy: 0.6923 - val_loss: 0.6840 - val_accuracy: 0.5224\n",
            "Epoch 9/10\n",
            "13/13 [==============================] - 29s 2s/step - loss: 0.5216 - accuracy: 0.7380 - val_loss: 1.0248 - val_accuracy: 0.3806\n",
            "Epoch 10/10\n",
            "13/13 [==============================] - 30s 2s/step - loss: 0.5040 - accuracy: 0.7332 - val_loss: 0.6818 - val_accuracy: 0.5672\n"
          ]
        }
      ]
    },
    {
      "cell_type": "code",
      "source": [
        "#plot the loss\n",
        "plt.plot(r.history['loss'], label='train loss')\n",
        "plt.plot(r.history['val_loss'], label='val loss')\n",
        "plt.legend()\n",
        "plt.show()\n",
        "plt.savefig('LossVal_loss')\n",
        "\n",
        "#plot accuracy\n",
        "plt.plot(r.history['accuracy'],label='train acc')\n",
        "plt.plot(r.history['val_accuracy'], label ='val acc')\n",
        "plt.legend()\n",
        "plt.show()\n",
        "plt.savefig('AccVal_acc')\n",
        "\n"
      ],
      "metadata": {
        "id": "bkCBUw_eCyKx",
        "colab": {
          "base_uri": "https://localhost:8080/",
          "height": 530
        },
        "outputId": "8f048dba-9b87-4923-bf95-04d8b9bc0848"
      },
      "execution_count": null,
      "outputs": [
        {
          "output_type": "display_data",
          "data": {
            "text/plain": [
              "<Figure size 432x288 with 1 Axes>"
            ],
            "image/png": "[encoded data removed]"
          },
          "metadata": {
            "needs_background": "light"
          }
        },
        {
          "output_type": "display_data",
          "data": {
            "text/plain": [
              "<Figure size 432x288 with 1 Axes>"
            ],
            "image/png": "[encoded data removed]"
          },
          "metadata": {
            "needs_background": "light"
          }
        },
        {
          "output_type": "display_data",
          "data": {
            "text/plain": [
              "<Figure size 432x288 with 0 Axes>"
            ]
          },
          "metadata": {}
        }
      ]
    },
    {
      "cell_type": "code",
      "source": [
        "#save it as a h5 file\n",
        "from tensorflow.keras.models import load_model\n",
        "model.save('model_vgg19.h5')"
      ],
      "metadata": {
        "id": "g_3V3T53SfLo"
      },
      "execution_count": null,
      "outputs": []
    },
    {
      "cell_type": "code",
      "source": [
        "y_predict = model.predict(test_set)"
      ],
      "metadata": {
        "id": "FQFY7Xv7SfQM",
        "colab": {
          "base_uri": "https://localhost:8080/"
        },
        "outputId": "566a1224-3455-457e-fcd6-f87663982c17"
      },
      "execution_count": null,
      "outputs": [
        {
          "output_type": "stream",
          "name": "stdout",
          "text": [
            "5/5 [==============================] - 2s 375ms/step\n"
          ]
        }
      ]
    },
    {
      "cell_type": "code",
      "source": [
        "y_predict"
      ],
      "metadata": {
        "id": "pp_g2CfHSfTb",
        "colab": {
          "base_uri": "https://localhost:8080/"
        },
        "outputId": "82babfce-9f22-4d33-dd6e-50f070aa35b7"
      },
      "execution_count": null,
      "outputs": [
        {
          "output_type": "execute_result",
          "data": {
            "text/plain": [
              "array([[0.17738464, 0.8226154 ],\n",
              "       [0.571202  , 0.42879805],\n",
              "       [0.42949468, 0.57050526],\n",
              "       [0.5793686 , 0.42063138],\n",
              "       [0.6191918 , 0.38080814],\n",
              "       [0.53546685, 0.4645331 ],\n",
              "       [0.4428473 , 0.5571527 ],\n",
              "       [0.5020937 , 0.4979063 ],\n",
              "       [0.64899415, 0.35100588],\n",
              "       [0.69122326, 0.30877674],\n",
              "       [0.89677405, 0.10322598],\n",
              "       [0.69246733, 0.3075327 ],\n",
              "       [0.672862  , 0.32713807],\n",
              "       [0.45722124, 0.5427787 ],\n",
              "       [0.433902  , 0.566098  ],\n",
              "       [0.67254376, 0.32745612],\n",
              "       [0.49584538, 0.50415474],\n",
              "       [0.32667828, 0.6733217 ],\n",
              "       [0.45593977, 0.5440602 ],\n",
              "       [0.7935233 , 0.2064767 ],\n",
              "       [0.6738813 , 0.32611874],\n",
              "       [0.43807784, 0.5619221 ],\n",
              "       [0.77120197, 0.22879797],\n",
              "       [0.6730019 , 0.32699805],\n",
              "       [0.432937  , 0.567063  ],\n",
              "       [0.54525924, 0.45474076],\n",
              "       [0.28307748, 0.71692246],\n",
              "       [0.83853453, 0.16146536],\n",
              "       [0.3627654 , 0.6372347 ],\n",
              "       [0.5652872 , 0.43471274],\n",
              "       [0.4696226 , 0.53037727],\n",
              "       [0.6298415 , 0.3701585 ],\n",
              "       [0.63467646, 0.36532345],\n",
              "       [0.4914859 , 0.50851405],\n",
              "       [0.8483234 , 0.15167648],\n",
              "       [0.46542877, 0.5345711 ],\n",
              "       [0.3484659 , 0.65153414],\n",
              "       [0.70172584, 0.29827413],\n",
              "       [0.5846759 , 0.4153241 ],\n",
              "       [0.31401008, 0.68599004],\n",
              "       [0.67867446, 0.32132557],\n",
              "       [0.5435705 , 0.45642945],\n",
              "       [0.5434982 , 0.45650172],\n",
              "       [0.62510824, 0.37489167],\n",
              "       [0.66960466, 0.33039534],\n",
              "       [0.8732461 , 0.12675385],\n",
              "       [0.5519837 , 0.4480163 ],\n",
              "       [0.694722  , 0.30527794],\n",
              "       [0.7665981 , 0.23340194],\n",
              "       [0.21734412, 0.78265595],\n",
              "       [0.61800265, 0.38199735],\n",
              "       [0.4663222 , 0.5336779 ],\n",
              "       [0.68941736, 0.3105826 ],\n",
              "       [0.44347388, 0.5565262 ],\n",
              "       [0.4458799 , 0.55412006],\n",
              "       [0.50594604, 0.4940539 ],\n",
              "       [0.7755222 , 0.22447777],\n",
              "       [0.6119374 , 0.3880627 ],\n",
              "       [0.6210715 , 0.37892848],\n",
              "       [0.26925933, 0.73074067],\n",
              "       [0.42056978, 0.5794303 ],\n",
              "       [0.47292483, 0.52707523],\n",
              "       [0.4747265 , 0.52527344],\n",
              "       [0.35654026, 0.6434598 ],\n",
              "       [0.6531307 , 0.34686926],\n",
              "       [0.5470271 , 0.45297295],\n",
              "       [0.5364647 , 0.46353537],\n",
              "       [0.55711216, 0.44288778],\n",
              "       [0.3931612 , 0.60683876],\n",
              "       [0.7542801 , 0.24571986],\n",
              "       [0.40732077, 0.59267926],\n",
              "       [0.7865167 , 0.21348321],\n",
              "       [0.26219428, 0.7378058 ],\n",
              "       [0.72358346, 0.27641657],\n",
              "       [0.88940316, 0.11059679],\n",
              "       [0.95756817, 0.04243175],\n",
              "       [0.60248536, 0.3975147 ],\n",
              "       [0.6344888 , 0.36551118],\n",
              "       [0.55977935, 0.44022065],\n",
              "       [0.7214284 , 0.27857158],\n",
              "       [0.8117675 , 0.18823236],\n",
              "       [0.5736823 , 0.42631763],\n",
              "       [0.48156986, 0.51843023],\n",
              "       [0.7980448 , 0.20195524],\n",
              "       [0.5619521 , 0.43804783],\n",
              "       [0.65719396, 0.34280604],\n",
              "       [0.47418556, 0.5258145 ],\n",
              "       [0.67363113, 0.32636887],\n",
              "       [0.6054399 , 0.39456016],\n",
              "       [0.5371696 , 0.4628304 ],\n",
              "       [0.25498918, 0.7450108 ],\n",
              "       [0.454617  , 0.545383  ],\n",
              "       [0.5238256 , 0.47617444],\n",
              "       [0.88459045, 0.11540945],\n",
              "       [0.4040568 , 0.59594315],\n",
              "       [0.70608085, 0.29391906],\n",
              "       [0.6197925 , 0.38020754],\n",
              "       [0.92317116, 0.0768288 ],\n",
              "       [0.8226332 , 0.17736675],\n",
              "       [0.41051844, 0.5894816 ],\n",
              "       [0.5051754 , 0.4948245 ],\n",
              "       [0.23735513, 0.7626449 ],\n",
              "       [0.4447781 , 0.5552219 ],\n",
              "       [0.47153166, 0.5284682 ],\n",
              "       [0.49052423, 0.5094758 ],\n",
              "       [0.2794388 , 0.7205612 ],\n",
              "       [0.43745646, 0.56254345],\n",
              "       [0.5904175 , 0.40958253],\n",
              "       [0.6803165 , 0.31968358],\n",
              "       [0.7042772 , 0.29572284],\n",
              "       [0.5809199 , 0.41908005],\n",
              "       [0.45449683, 0.54550314],\n",
              "       [0.56492853, 0.4350715 ],\n",
              "       [0.5682987 , 0.4317013 ],\n",
              "       [0.40533242, 0.59466755],\n",
              "       [0.4699169 , 0.5300831 ],\n",
              "       [0.6191066 , 0.38089338],\n",
              "       [0.46368447, 0.53631556],\n",
              "       [0.39587986, 0.60411996],\n",
              "       [0.42267793, 0.57732207],\n",
              "       [0.8526254 , 0.14737447],\n",
              "       [0.93051493, 0.06948505],\n",
              "       [0.50660485, 0.4933952 ],\n",
              "       [0.6447062 , 0.35529375],\n",
              "       [0.42442498, 0.575575  ],\n",
              "       [0.59263   , 0.40737   ],\n",
              "       [0.44803554, 0.55196446],\n",
              "       [0.47958207, 0.52041787],\n",
              "       [0.4438683 , 0.5561318 ],\n",
              "       [0.6748998 , 0.32510018],\n",
              "       [0.38945058, 0.61054945],\n",
              "       [0.45841017, 0.54158974],\n",
              "       [0.7243912 , 0.27560884],\n",
              "       [0.5740682 , 0.42593175]], dtype=float32)"
            ]
          },
          "metadata": {},
          "execution_count": 27
        }
      ]
    },
    {
      "cell_type": "code",
      "source": [
        "import numpy as np\n",
        "y_pred = np.argmax(y_predict, axis=1)"
      ],
      "metadata": {
        "id": "PjKp1u4NSfXh"
      },
      "execution_count": null,
      "outputs": []
    },
    {
      "cell_type": "code",
      "source": [
        "y_predict"
      ],
      "metadata": {
        "id": "9NKBDZjKSf1N",
        "colab": {
          "base_uri": "https://localhost:8080/"
        },
        "outputId": "fe4d486b-4bfc-4057-ea78-2231c0b996de"
      },
      "execution_count": null,
      "outputs": [
        {
          "output_type": "execute_result",
          "data": {
            "text/plain": [
              "array([[0.17738464, 0.8226154 ],\n",
              "       [0.571202  , 0.42879805],\n",
              "       [0.42949468, 0.57050526],\n",
              "       [0.5793686 , 0.42063138],\n",
              "       [0.6191918 , 0.38080814],\n",
              "       [0.53546685, 0.4645331 ],\n",
              "       [0.4428473 , 0.5571527 ],\n",
              "       [0.5020937 , 0.4979063 ],\n",
              "       [0.64899415, 0.35100588],\n",
              "       [0.69122326, 0.30877674],\n",
              "       [0.89677405, 0.10322598],\n",
              "       [0.69246733, 0.3075327 ],\n",
              "       [0.672862  , 0.32713807],\n",
              "       [0.45722124, 0.5427787 ],\n",
              "       [0.433902  , 0.566098  ],\n",
              "       [0.67254376, 0.32745612],\n",
              "       [0.49584538, 0.50415474],\n",
              "       [0.32667828, 0.6733217 ],\n",
              "       [0.45593977, 0.5440602 ],\n",
              "       [0.7935233 , 0.2064767 ],\n",
              "       [0.6738813 , 0.32611874],\n",
              "       [0.43807784, 0.5619221 ],\n",
              "       [0.77120197, 0.22879797],\n",
              "       [0.6730019 , 0.32699805],\n",
              "       [0.432937  , 0.567063  ],\n",
              "       [0.54525924, 0.45474076],\n",
              "       [0.28307748, 0.71692246],\n",
              "       [0.83853453, 0.16146536],\n",
              "       [0.3627654 , 0.6372347 ],\n",
              "       [0.5652872 , 0.43471274],\n",
              "       [0.4696226 , 0.53037727],\n",
              "       [0.6298415 , 0.3701585 ],\n",
              "       [0.63467646, 0.36532345],\n",
              "       [0.4914859 , 0.50851405],\n",
              "       [0.8483234 , 0.15167648],\n",
              "       [0.46542877, 0.5345711 ],\n",
              "       [0.3484659 , 0.65153414],\n",
              "       [0.70172584, 0.29827413],\n",
              "       [0.5846759 , 0.4153241 ],\n",
              "       [0.31401008, 0.68599004],\n",
              "       [0.67867446, 0.32132557],\n",
              "       [0.5435705 , 0.45642945],\n",
              "       [0.5434982 , 0.45650172],\n",
              "       [0.62510824, 0.37489167],\n",
              "       [0.66960466, 0.33039534],\n",
              "       [0.8732461 , 0.12675385],\n",
              "       [0.5519837 , 0.4480163 ],\n",
              "       [0.694722  , 0.30527794],\n",
              "       [0.7665981 , 0.23340194],\n",
              "       [0.21734412, 0.78265595],\n",
              "       [0.61800265, 0.38199735],\n",
              "       [0.4663222 , 0.5336779 ],\n",
              "       [0.68941736, 0.3105826 ],\n",
              "       [0.44347388, 0.5565262 ],\n",
              "       [0.4458799 , 0.55412006],\n",
              "       [0.50594604, 0.4940539 ],\n",
              "       [0.7755222 , 0.22447777],\n",
              "       [0.6119374 , 0.3880627 ],\n",
              "       [0.6210715 , 0.37892848],\n",
              "       [0.26925933, 0.73074067],\n",
              "       [0.42056978, 0.5794303 ],\n",
              "       [0.47292483, 0.52707523],\n",
              "       [0.4747265 , 0.52527344],\n",
              "       [0.35654026, 0.6434598 ],\n",
              "       [0.6531307 , 0.34686926],\n",
              "       [0.5470271 , 0.45297295],\n",
              "       [0.5364647 , 0.46353537],\n",
              "       [0.55711216, 0.44288778],\n",
              "       [0.3931612 , 0.60683876],\n",
              "       [0.7542801 , 0.24571986],\n",
              "       [0.40732077, 0.59267926],\n",
              "       [0.7865167 , 0.21348321],\n",
              "       [0.26219428, 0.7378058 ],\n",
              "       [0.72358346, 0.27641657],\n",
              "       [0.88940316, 0.11059679],\n",
              "       [0.95756817, 0.04243175],\n",
              "       [0.60248536, 0.3975147 ],\n",
              "       [0.6344888 , 0.36551118],\n",
              "       [0.55977935, 0.44022065],\n",
              "       [0.7214284 , 0.27857158],\n",
              "       [0.8117675 , 0.18823236],\n",
              "       [0.5736823 , 0.42631763],\n",
              "       [0.48156986, 0.51843023],\n",
              "       [0.7980448 , 0.20195524],\n",
              "       [0.5619521 , 0.43804783],\n",
              "       [0.65719396, 0.34280604],\n",
              "       [0.47418556, 0.5258145 ],\n",
              "       [0.67363113, 0.32636887],\n",
              "       [0.6054399 , 0.39456016],\n",
              "       [0.5371696 , 0.4628304 ],\n",
              "       [0.25498918, 0.7450108 ],\n",
              "       [0.454617  , 0.545383  ],\n",
              "       [0.5238256 , 0.47617444],\n",
              "       [0.88459045, 0.11540945],\n",
              "       [0.4040568 , 0.59594315],\n",
              "       [0.70608085, 0.29391906],\n",
              "       [0.6197925 , 0.38020754],\n",
              "       [0.92317116, 0.0768288 ],\n",
              "       [0.8226332 , 0.17736675],\n",
              "       [0.41051844, 0.5894816 ],\n",
              "       [0.5051754 , 0.4948245 ],\n",
              "       [0.23735513, 0.7626449 ],\n",
              "       [0.4447781 , 0.5552219 ],\n",
              "       [0.47153166, 0.5284682 ],\n",
              "       [0.49052423, 0.5094758 ],\n",
              "       [0.2794388 , 0.7205612 ],\n",
              "       [0.43745646, 0.56254345],\n",
              "       [0.5904175 , 0.40958253],\n",
              "       [0.6803165 , 0.31968358],\n",
              "       [0.7042772 , 0.29572284],\n",
              "       [0.5809199 , 0.41908005],\n",
              "       [0.45449683, 0.54550314],\n",
              "       [0.56492853, 0.4350715 ],\n",
              "       [0.5682987 , 0.4317013 ],\n",
              "       [0.40533242, 0.59466755],\n",
              "       [0.4699169 , 0.5300831 ],\n",
              "       [0.6191066 , 0.38089338],\n",
              "       [0.46368447, 0.53631556],\n",
              "       [0.39587986, 0.60411996],\n",
              "       [0.42267793, 0.57732207],\n",
              "       [0.8526254 , 0.14737447],\n",
              "       [0.93051493, 0.06948505],\n",
              "       [0.50660485, 0.4933952 ],\n",
              "       [0.6447062 , 0.35529375],\n",
              "       [0.42442498, 0.575575  ],\n",
              "       [0.59263   , 0.40737   ],\n",
              "       [0.44803554, 0.55196446],\n",
              "       [0.47958207, 0.52041787],\n",
              "       [0.4438683 , 0.5561318 ],\n",
              "       [0.6748998 , 0.32510018],\n",
              "       [0.38945058, 0.61054945],\n",
              "       [0.45841017, 0.54158974],\n",
              "       [0.7243912 , 0.27560884],\n",
              "       [0.5740682 , 0.42593175]], dtype=float32)"
            ]
          },
          "metadata": {},
          "execution_count": 29
        }
      ]
    },
    {
      "cell_type": "code",
      "source": [
        "from tensorflow.keras.models import load_model\n",
        "from tensorflow.keras.preprocessing import image"
      ],
      "metadata": {
        "id": "fWAhC33LSf6I"
      },
      "execution_count": null,
      "outputs": []
    },
    {
      "cell_type": "code",
      "source": [
        "model = load_model('model_vgg19.h5')\n"
      ],
      "metadata": {
        "id": "9JtWyv-iYXbi"
      },
      "execution_count": null,
      "outputs": []
    },
    {
      "cell_type": "code",
      "source": [
        "img=image.load_img('/content/drive/MyDrive/Dataset/Test/Uninfected/2.png', target_size=(224,224))"
      ],
      "metadata": {
        "id": "25YKbi4iYXeT"
      },
      "execution_count": null,
      "outputs": []
    },
    {
      "cell_type": "code",
      "source": [
        "img=image.load_img('/content/drive/MyDrive/Dataset/Test/Parasite/C39P4thinF_original_IMG_20150622_110115_cell_136.png', target_size=(224,224))"
      ],
      "metadata": {
        "id": "g_gKb-BbYXhM"
      },
      "execution_count": null,
      "outputs": []
    },
    {
      "cell_type": "code",
      "source": [
        "x=image.img_to_array(img)\n",
        "x"
      ],
      "metadata": {
        "id": "ksAyiWTwYXkB",
        "colab": {
          "base_uri": "https://localhost:8080/"
        },
        "outputId": "85b69310-dea9-4e69-ac3b-99ba02b95935"
      },
      "execution_count": null,
      "outputs": [
        {
          "output_type": "execute_result",
          "data": {
            "text/plain": [
              "array([[[0., 0., 0.],\n",
              "        [0., 0., 0.],\n",
              "        [0., 0., 0.],\n",
              "        ...,\n",
              "        [0., 0., 0.],\n",
              "        [0., 0., 0.],\n",
              "        [0., 0., 0.]],\n",
              "\n",
              "       [[0., 0., 0.],\n",
              "        [0., 0., 0.],\n",
              "        [0., 0., 0.],\n",
              "        ...,\n",
              "        [0., 0., 0.],\n",
              "        [0., 0., 0.],\n",
              "        [0., 0., 0.]],\n",
              "\n",
              "       [[0., 0., 0.],\n",
              "        [0., 0., 0.],\n",
              "        [0., 0., 0.],\n",
              "        ...,\n",
              "        [0., 0., 0.],\n",
              "        [0., 0., 0.],\n",
              "        [0., 0., 0.]],\n",
              "\n",
              "       ...,\n",
              "\n",
              "       [[0., 0., 0.],\n",
              "        [0., 0., 0.],\n",
              "        [0., 0., 0.],\n",
              "        ...,\n",
              "        [0., 0., 0.],\n",
              "        [0., 0., 0.],\n",
              "        [0., 0., 0.]],\n",
              "\n",
              "       [[0., 0., 0.],\n",
              "        [0., 0., 0.],\n",
              "        [0., 0., 0.],\n",
              "        ...,\n",
              "        [0., 0., 0.],\n",
              "        [0., 0., 0.],\n",
              "        [0., 0., 0.]],\n",
              "\n",
              "       [[0., 0., 0.],\n",
              "        [0., 0., 0.],\n",
              "        [0., 0., 0.],\n",
              "        ...,\n",
              "        [0., 0., 0.],\n",
              "        [0., 0., 0.],\n",
              "        [0., 0., 0.]]], dtype=float32)"
            ]
          },
          "metadata": {},
          "execution_count": 43
        }
      ]
    },
    {
      "cell_type": "code",
      "source": [
        "x.shape"
      ],
      "metadata": {
        "id": "55jM19kgYXmq",
        "colab": {
          "base_uri": "https://localhost:8080/"
        },
        "outputId": "b8faa228-9432-435d-adb1-7eb0b1b5a541"
      },
      "execution_count": null,
      "outputs": [
        {
          "output_type": "execute_result",
          "data": {
            "text/plain": [
              "(224, 224, 3)"
            ]
          },
          "metadata": {},
          "execution_count": 44
        }
      ]
    },
    {
      "cell_type": "code",
      "source": [
        "x=x/255"
      ],
      "metadata": {
        "id": "PepX-MzoYXpY"
      },
      "execution_count": null,
      "outputs": []
    },
    {
      "cell_type": "code",
      "source": [
        "x=np.expand_dims(x,axis=0)\n",
        "img_data=preprocess_input(x)\n",
        "img_data.shape"
      ],
      "metadata": {
        "id": "f89x8HpCajPy",
        "colab": {
          "base_uri": "https://localhost:8080/"
        },
        "outputId": "5645a947-284a-4409-d6f8-5051fd6ea3bf"
      },
      "execution_count": null,
      "outputs": [
        {
          "output_type": "execute_result",
          "data": {
            "text/plain": [
              "(1, 224, 224, 3)"
            ]
          },
          "metadata": {},
          "execution_count": 46
        }
      ]
    },
    {
      "cell_type": "code",
      "source": [
        "model.predict(img_data)"
      ],
      "metadata": {
        "id": "Z2Ri7F-Fajm0",
        "colab": {
          "base_uri": "https://localhost:8080/"
        },
        "outputId": "aa856f4b-322e-42bf-d7c2-1f1945c2be3b"
      },
      "execution_count": null,
      "outputs": [
        {
          "output_type": "stream",
          "name": "stdout",
          "text": [
            "1/1 [==============================] - 0s 67ms/step\n"
          ]
        },
        {
          "output_type": "execute_result",
          "data": {
            "text/plain": [
              "array([[0., 1.]], dtype=float32)"
            ]
          },
          "metadata": {},
          "execution_count": 47
        }
      ]
    },
    {
      "cell_type": "code",
      "source": [
        "a=np.argmax(model.predict(img_data), axis=1)"
      ],
      "metadata": {
        "id": "-_8FQ_Tiajpg",
        "colab": {
          "base_uri": "https://localhost:8080/"
        },
        "outputId": "16b7edc5-afe6-438e-ba51-40c7cfd615f4"
      },
      "execution_count": null,
      "outputs": [
        {
          "output_type": "stream",
          "name": "stdout",
          "text": [
            "1/1 [==============================] - 0s 73ms/step\n"
          ]
        }
      ]
    },
    {
      "cell_type": "code",
      "source": [
        "if(a==1):\n",
        "  print(\"Uninfected\")\n",
        "else:\n",
        "\n",
        "  print(\"Infected\")"
      ],
      "metadata": {
        "id": "kyOmCOlpajsX",
        "colab": {
          "base_uri": "https://localhost:8080/"
        },
        "outputId": "3c6e04c6-14f2-4e65-c46e-73a29b3e9284"
      },
      "execution_count": null,
      "outputs": [
        {
          "output_type": "stream",
          "name": "stdout",
          "text": [
            "Uninfected\n"
          ]
        }
      ]
    },
    {
      "cell_type": "code",
      "source": [
        "import pickle"
      ],
      "metadata": {
        "id": "fsjCoMplAab3"
      },
      "execution_count": 1,
      "outputs": []
    },
    {
      "cell_type": "code",
      "source": [
        "pickle.dump(model, open('mlmodel.pkl','wb'))"
      ],
      "metadata": {
        "id": "10eR8PoYajv4",
        "colab": {
          "base_uri": "https://localhost:8080/",
          "height": 165
        },
        "outputId": "f9c9be60-9ad1-4094-a4db-6d6bb432e219"
      },
      "execution_count": 4,
      "outputs": [
        {
          "output_type": "error",
          "ename": "NameError",
          "evalue": "ignored",
          "traceback": [
            "\u001b[0;31m---------------------------------------------------------------------------\u001b[0m",
            "\u001b[0;31mNameError\u001b[0m                                 Traceback (most recent call last)",
            "\u001b[0;32m<ipython-input-4-3ea6c6bfc60c>\u001b[0m in \u001b[0;36m<module>\u001b[0;34m\u001b[0m\n\u001b[0;32m----> 1\u001b[0;31m \u001b[0mpickle\u001b[0m\u001b[0;34m.\u001b[0m\u001b[0mdump\u001b[0m\u001b[0;34m(\u001b[0m\u001b[0mmodel\u001b[0m\u001b[0;34m,\u001b[0m \u001b[0mopen\u001b[0m\u001b[0;34m(\u001b[0m\u001b[0;34m'mlmodel.pkl'\u001b[0m\u001b[0;34m,\u001b[0m\u001b[0;34m'wb'\u001b[0m\u001b[0;34m)\u001b[0m\u001b[0;34m)\u001b[0m\u001b[0;34m\u001b[0m\u001b[0;34m\u001b[0m\u001b[0m\n\u001b[0m",
            "\u001b[0;31mNameError\u001b[0m: name 'model' is not defined"
          ]
        }
      ]
    }
  ]
}